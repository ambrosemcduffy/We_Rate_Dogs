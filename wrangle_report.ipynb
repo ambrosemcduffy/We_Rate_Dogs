{
 "cells": [
  {
   "cell_type": "markdown",
   "metadata": {},
   "source": [
    "\n",
    "\n",
    "#### Gathering the data:\n",
    "This project began with me gathering the data via URL provided by Udacity. With the URL, I downloaded the image prediction .tsv file. I would need this file because it has the results of the neural network with the proper dog predictions.\n",
    "\n",
    "Udacity also provided twitter_archive.csv this file has twitter_id which will allow me to capture more data via programmatically and the module tweepy.\n",
    "\n",
    "After authorizing myself on twitter I have full access to get the status of tweet data .json file, and export for later use.  I would have to loop over the twitter ids and export and append them to a list then export that list as a .txt file. \n",
    "\n",
    "I then created a function called get_tweet. This function is responsible for taking in a list of 3 keywords, and the data JSON file path.\n",
    "after input of the selected keywords, one would get back that data JSON file and tweet_dict which is a dictionary with keywords with its relative JSON file.\n",
    "\n",
    "#### Assessing the data:\n",
    "After obtaining the tweet_dict I  was ready to do my visual assessments of all datasets in the data frames. I started off by doing visual assessment first this would help me identify which columns have incorrectly duplicated, or misspelled names. In the course, the instructor talked about assessing programmatically as well. I used the pandas .info module method to help me quickly identify whats corrupt or missing data.\n",
    "\n",
    "When I completed my assessments I wrote down the various quality, and tidiness issues I needed to take care of. Then it was time to clean my data.\n",
    "\n",
    "#### Cleaning the data:\n",
    "I cleaned the data by combining all three data frames and dropping any redundant columns that are unneeded, and any columns with \"Not a Number \" values.    I changed ratings to be in 1 column instead of two, and drop columns that don't have image prediction belonging to it.\n",
    "\n",
    "#### Storing the data:\n",
    "After completing the cleaning I stored the data frame on disk called twitter_archive_master.csv\n",
    "\n",
    "\n"
   ]
  }
 ],
 "metadata": {
  "kernelspec": {
   "display_name": "Python 3",
   "language": "python",
   "name": "python3"
  },
  "language_info": {
   "codemirror_mode": {
    "name": "ipython",
    "version": 3
   },
   "file_extension": ".py",
   "mimetype": "text/x-python",
   "name": "python",
   "nbconvert_exporter": "python",
   "pygments_lexer": "ipython3",
   "version": "3.7.7"
  }
 },
 "nbformat": 4,
 "nbformat_minor": 4
}